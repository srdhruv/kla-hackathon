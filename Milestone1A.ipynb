{
 "cells": [
  {
   "cell_type": "code",
   "execution_count": 1,
   "metadata": {},
   "outputs": [],
   "source": [
    "#56_Dhruv_Rajendra_Sawarkar_IITDM\n",
    "import yaml\n",
    "from datetime import datetime\n",
    "import time\n",
    "import threading\n",
    "import os"
   ]
  },
  {
   "cell_type": "code",
   "execution_count": 2,
   "metadata": {},
   "outputs": [],
   "source": [
    "yaml_data = {}\n",
    "example_fileName = \"Milestone1/Milestone1_Example.yaml\"\n",
    "fileA = \"Milestone1/Milestone1A.yaml\"\n",
    "fileB = \"Milestone1/Milestone1B.yaml\"\n",
    "logFileName = \"Milestone1/MileStone1A_Log.txt\"\n",
    "example = 0\n",
    "filename = fileA\n",
    "if example == 1:\n",
    "    filename = example_fileName\n",
    "with open(filename) as file:\n",
    "    yaml_data = yaml.safe_load(file)"
   ]
  },
  {
   "cell_type": "code",
   "execution_count": 3,
   "metadata": {},
   "outputs": [
    {
     "data": {
      "text/plain": [
       "{'M1A_Workflow': {'Type': 'Flow',\n",
       "  'Execution': 'Sequential',\n",
       "  'Activities': {'TaskA': {'Type': 'Task',\n",
       "    'Function': 'TimeFunction',\n",
       "    'Inputs': {'FunctionInput': 'TaskA_Input', 'ExecutionTime': '1'}},\n",
       "   'TaskB': {'Type': 'Task',\n",
       "    'Function': 'TimeFunction',\n",
       "    'Inputs': {'FunctionInput': 'TaskB_Input', 'ExecutionTime': '2'}},\n",
       "   'FlowA': {'Type': 'Flow',\n",
       "    'Execution': 'Sequential',\n",
       "    'Activities': {'TaskC': {'Type': 'Task',\n",
       "      'Function': 'TimeFunction',\n",
       "      'Inputs': {'FunctionInput': 'TaskC_Input', 'ExecutionTime': '3'}},\n",
       "     'TaskD': {'Type': 'Task',\n",
       "      'Function': 'TimeFunction',\n",
       "      'Inputs': {'FunctionInput': 'TaskD_Input', 'ExecutionTime': '4'}}}}}}}"
      ]
     },
     "execution_count": 3,
     "metadata": {},
     "output_type": "execute_result"
    }
   ],
   "source": [
    "yaml_data"
   ]
  },
  {
   "cell_type": "code",
   "execution_count": 4,
   "metadata": {},
   "outputs": [],
   "source": [
    "all_data = {}\n",
    "global root_logs\n",
    "root_logs = \"\"\n",
    "global history_done\n",
    "history_done = {}"
   ]
  },
  {
   "cell_type": "code",
   "execution_count": 5,
   "metadata": {},
   "outputs": [],
   "source": [
    "#creating log file\n",
    "with open(logFileName,\"w\") as file:\n",
    "    file.write(\"\")\n",
    "def writeLogInFile(log):\n",
    "    with open(logFileName,\"a\") as file:\n",
    "        file.write(log)\n"
   ]
  },
  {
   "cell_type": "code",
   "execution_count": 6,
   "metadata": {},
   "outputs": [],
   "source": [
    "def addLog(name,status,optional=\"\"):\n",
    "    #date time;name status optional\n",
    "    log = \"\"\n",
    "    now = datetime.now() #2022-03-07 10:00:07.000000;\n",
    "    neededFormat = now.strftime(\"%Y-%m-%d %H:%M:%S.%f;\")\n",
    "    log += neededFormat\n",
    "    log += name\n",
    "    log += status\n",
    "    log += optional\n",
    "    log += \"\\n\"\n",
    "#     root_logs += log\n",
    "    writeLogInFile(log)\n",
    "#     print(log)"
   ]
  },
  {
   "cell_type": "code",
   "execution_count": 7,
   "metadata": {},
   "outputs": [],
   "source": [
    "def doTask(name,task):\n",
    "    if task['Function'] == \"TimeFunction\":\n",
    "        extra = \"TimeFunction (\"\n",
    "        values_list = list(task['Inputs'].values())\n",
    "        n = len(values_list)\n",
    "        for i in range(n):\n",
    "            extra += values_list[i]\n",
    "            if i != n-1:\n",
    "                extra += \",\"\n",
    "        extra += ')'\n",
    "        addLog(name,\" Executing \",extra)\n",
    "        time.sleep(int(task['Inputs']['ExecutionTime']))\n",
    "        \n",
    "        "
   ]
  },
  {
   "cell_type": "code",
   "execution_count": null,
   "metadata": {},
   "outputs": [],
   "source": []
  },
  {
   "cell_type": "code",
   "execution_count": 8,
   "metadata": {},
   "outputs": [],
   "source": [
    "def doTaskSerial(name,task):\n",
    "    if task['Type'] == 'Flow':\n",
    "        addLog(name,\" Entry\")\n",
    "        #do it\n",
    "        if task['Execution'] == 'Sequential':\n",
    "            for subtaskName,subtask in task['Activities'].items():\n",
    "                doTaskSerial(name+\".\"+subtaskName,subtask)\n",
    "        elif task['Execution'] == 'Concurrent':\n",
    "            # do parallel task\n",
    "            subtasks = []\n",
    "            threadList = []\n",
    "            for subtaskName,subtask in task['Activities'].items():\n",
    "                t = threading.Thread(target = doTaskSerial,args=(name+\".\"+subtaskName,subtask))\n",
    "                threadList.append(t)\n",
    "            for t in threadList:\n",
    "                t.start()\n",
    "            for t in threadList:\n",
    "                t.join()\n",
    "        else:\n",
    "            print(\"\\n\\n______not serial nor paralle __________\\n\\n\")\n",
    "        addLog(name,\" Exit\")\n",
    "    elif task['Type'] == 'Task':\n",
    "        # no need to go down just do it\n",
    "        addLog(name,\" Entry\")\n",
    "        history_done[name] = \"notDone\"\n",
    "        doTask(name,task)\n",
    "        addLog(name,\" Exit\")\n",
    "        history_done[name] = \"done\"\n",
    "            \n",
    "            \n",
    "        "
   ]
  },
  {
   "cell_type": "code",
   "execution_count": 9,
   "metadata": {
    "scrolled": true
   },
   "outputs": [],
   "source": [
    "for k,v in yaml_data.items():\n",
    "    doTaskSerial(k,v)"
   ]
  },
  {
   "cell_type": "code",
   "execution_count": 10,
   "metadata": {},
   "outputs": [
    {
     "name": "stdout",
     "output_type": "stream",
     "text": [
      "2022-03-08 11:34:02.524486;M1A_Workflow Entry\n",
      "\n",
      "2022-03-08 11:34:02.525860;M1A_Workflow.TaskA Entry\n",
      "\n",
      "2022-03-08 11:34:02.526098;M1A_Workflow.TaskA Executing TimeFunction (TaskA_Input,1)\n",
      "\n",
      "2022-03-08 11:34:03.527296;M1A_Workflow.TaskA Exit\n",
      "\n",
      "2022-03-08 11:34:03.527501;M1A_Workflow.TaskB Entry\n",
      "\n",
      "2022-03-08 11:34:03.527616;M1A_Workflow.TaskB Executing TimeFunction (TaskB_Input,2)\n",
      "\n",
      "2022-03-08 11:34:05.529771;M1A_Workflow.TaskB Exit\n",
      "\n",
      "2022-03-08 11:34:05.530158;M1A_Workflow.FlowA Entry\n",
      "\n",
      "2022-03-08 11:34:05.530344;M1A_Workflow.FlowA.TaskC Entry\n",
      "\n",
      "2022-03-08 11:34:05.530545;M1A_Workflow.FlowA.TaskC Executing TimeFunction (TaskC_Input,3)\n",
      "\n",
      "2022-03-08 11:34:08.533020;M1A_Workflow.FlowA.TaskC Exit\n",
      "\n",
      "2022-03-08 11:34:08.533257;M1A_Workflow.FlowA.TaskD Entry\n",
      "\n",
      "2022-03-08 11:34:08.533394;M1A_Workflow.FlowA.TaskD Executing TimeFunction (TaskD_Input,4)\n",
      "\n",
      "2022-03-08 11:34:12.533982;M1A_Workflow.FlowA.TaskD Exit\n",
      "\n",
      "2022-03-08 11:34:12.534179;M1A_Workflow.FlowA Exit\n",
      "\n",
      "2022-03-08 11:34:12.534307;M1A_Workflow Exit\n",
      "\n"
     ]
    }
   ],
   "source": [
    "with open(logFileName) as file:\n",
    "    for line in file:\n",
    "        print(line)"
   ]
  },
  {
   "cell_type": "code",
   "execution_count": null,
   "metadata": {},
   "outputs": [],
   "source": []
  },
  {
   "cell_type": "code",
   "execution_count": null,
   "metadata": {},
   "outputs": [],
   "source": []
  },
  {
   "cell_type": "code",
   "execution_count": null,
   "metadata": {},
   "outputs": [],
   "source": []
  }
 ],
 "metadata": {
  "kernelspec": {
   "display_name": "Python 3",
   "language": "python",
   "name": "python3"
  },
  "language_info": {
   "codemirror_mode": {
    "name": "ipython",
    "version": 3
   },
   "file_extension": ".py",
   "mimetype": "text/x-python",
   "name": "python",
   "nbconvert_exporter": "python",
   "pygments_lexer": "ipython3",
   "version": "3.8.5"
  }
 },
 "nbformat": 4,
 "nbformat_minor": 4
}
