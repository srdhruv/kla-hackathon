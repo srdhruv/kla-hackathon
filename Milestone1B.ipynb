{
 "cells": [
  {
   "cell_type": "code",
   "execution_count": 283,
   "metadata": {},
   "outputs": [],
   "source": [
    "#56_Dhruv_Rajendra_Sawarkar_IITDM\n",
    "import yaml\n",
    "from datetime import datetime\n",
    "import time\n",
    "import threading\n",
    "import os"
   ]
  },
  {
   "cell_type": "code",
   "execution_count": 284,
   "metadata": {},
   "outputs": [],
   "source": [
    "yaml_data = {}\n",
    "example_fileName = \"Milestone1/Milestone1_Example.yaml\"\n",
    "fileA = \"Milestone1/Milestone1A.yaml\"\n",
    "fileB = \"Milestone1/Milestone1B.yaml\"\n",
    "logFileName = \"Milestone1/MileStone1B_Log.txt\"\n",
    "example = 0\n",
    "filename = fileB\n",
    "\n",
    "\n",
    "if example == 1:\n",
    "    filename = example_fileName\n",
    "with open(filename) as file:\n",
    "    yaml_data = yaml.safe_load(file)"
   ]
  },
  {
   "cell_type": "code",
   "execution_count": 285,
   "metadata": {},
   "outputs": [
    {
     "data": {
      "text/plain": [
       "{'M1B_Workflow': {'Type': 'Flow',\n",
       "  'Execution': 'Sequential',\n",
       "  'Activities': {'TaskA': {'Type': 'Task',\n",
       "    'Function': 'TimeFunction',\n",
       "    'Inputs': {'FunctionInput': 'TaskA_Input', 'ExecutionTime': '1'}},\n",
       "   'FlowA': {'Type': 'Flow',\n",
       "    'Execution': 'Concurrent',\n",
       "    'Activities': {'TaskB': {'Type': 'Task',\n",
       "      'Function': 'TimeFunction',\n",
       "      'Inputs': {'FunctionInput': 'TaskB_Input', 'ExecutionTime': '14'}},\n",
       "     'TaskC': {'Type': 'Task',\n",
       "      'Function': 'TimeFunction',\n",
       "      'Inputs': {'FunctionInput': 'TaskC_Input', 'ExecutionTime': '5'}},\n",
       "     'TaskD': {'Type': 'Task',\n",
       "      'Function': 'TimeFunction',\n",
       "      'Inputs': {'FunctionInput': 'TaskD_Input', 'ExecutionTime': '5'}},\n",
       "     'FlowB': {'Type': 'Flow',\n",
       "      'Execution': 'Sequential',\n",
       "      'Activities': {'TaskE': {'Type': 'Task',\n",
       "        'Function': 'TimeFunction',\n",
       "        'Inputs': {'FunctionInput': 'TaskE_Input', 'ExecutionTime': '5'}},\n",
       "       'TaskF': {'Type': 'Task',\n",
       "        'Function': 'TimeFunction',\n",
       "        'Inputs': {'FunctionInput': 'TaskF_Input', 'ExecutionTime': '1'}}}},\n",
       "     'FlowC': {'Type': 'Flow',\n",
       "      'Execution': 'Sequential',\n",
       "      'Activities': {'TaskG': {'Type': 'Task',\n",
       "        'Function': 'TimeFunction',\n",
       "        'Inputs': {'FunctionInput': 'TaskG_Input', 'ExecutionTime': '2'}},\n",
       "       'TaskH': {'Type': 'Task',\n",
       "        'Function': 'TimeFunction',\n",
       "        'Inputs': {'FunctionInput': 'TaskH_Input', 'ExecutionTime': '2'}}}},\n",
       "     'TaskI': {'Type': 'Task',\n",
       "      'Function': 'TimeFunction',\n",
       "      'Inputs': {'FunctionInput': 'TaskI_Input', 'ExecutionTime': '5'}}}},\n",
       "   'TaskZ': {'Type': 'Task',\n",
       "    'Function': 'TimeFunction',\n",
       "    'Inputs': {'FunctionInput': 'TaskZ_Input', 'ExecutionTime': '5'}}}}}"
      ]
     },
     "execution_count": 285,
     "metadata": {},
     "output_type": "execute_result"
    }
   ],
   "source": [
    "yaml_data"
   ]
  },
  {
   "cell_type": "code",
   "execution_count": 286,
   "metadata": {},
   "outputs": [],
   "source": [
    "all_data = {}\n",
    "global root_logs\n",
    "root_logs = \"\"\n",
    "global history_done\n",
    "history_done = {}"
   ]
  },
  {
   "cell_type": "code",
   "execution_count": 287,
   "metadata": {},
   "outputs": [],
   "source": [
    "#creating log file\n",
    "with open(logFileName,\"w\") as file:\n",
    "    file.write(\"\")\n",
    "def writeLogInFile(log):\n",
    "    with open(logFileName,\"a\") as file:\n",
    "        file.write(log)\n"
   ]
  },
  {
   "cell_type": "code",
   "execution_count": 288,
   "metadata": {},
   "outputs": [],
   "source": [
    "def addLog(name,status,optional=\"\"):\n",
    "    #date time;name status optional\n",
    "    log = \"\"\n",
    "    now = datetime.now() #2022-03-07 10:00:07.000000;\n",
    "    neededFormat = now.strftime(\"%Y-%m-%d %H:%M:%S.%f;\")\n",
    "    log += neededFormat\n",
    "    log += name\n",
    "    log += status\n",
    "    log += optional\n",
    "    log += \"\\n\"\n",
    "#     root_logs += log\n",
    "    writeLogInFile(log)\n",
    "#     print(log)"
   ]
  },
  {
   "cell_type": "code",
   "execution_count": 289,
   "metadata": {},
   "outputs": [],
   "source": [
    "def doTask(name,task):\n",
    "    if task['Function'] == \"TimeFunction\":\n",
    "        extra = \"TimeFunction (\"\n",
    "        values_list = list(task['Inputs'].values())\n",
    "        n = len(values_list)\n",
    "        for i in range(n):\n",
    "            extra += values_list[i]\n",
    "            if i != n-1:\n",
    "                extra += \",\"\n",
    "        extra += ')'\n",
    "        addLog(name,\" Executing \",extra)\n",
    "        time.sleep(int(task['Inputs']['ExecutionTime']))\n",
    "        \n",
    "        "
   ]
  },
  {
   "cell_type": "code",
   "execution_count": null,
   "metadata": {},
   "outputs": [],
   "source": []
  },
  {
   "cell_type": "code",
   "execution_count": 290,
   "metadata": {},
   "outputs": [],
   "source": [
    "def doTaskSerial(name,task):\n",
    "    if task['Type'] == 'Flow':\n",
    "        addLog(name,\" Entry\")\n",
    "        #do it\n",
    "        if task['Execution'] == 'Sequential':\n",
    "            for subtaskName,subtask in task['Activities'].items():\n",
    "                doTaskSerial(name+\".\"+subtaskName,subtask)\n",
    "        elif task['Execution'] == 'Concurrent':\n",
    "            # do parallel task\n",
    "            subtasks = []\n",
    "            threadList = []\n",
    "            for subtaskName,subtask in task['Activities'].items():\n",
    "                t = threading.Thread(target = doTaskSerial,args=(name+\".\"+subtaskName,subtask))\n",
    "                threadList.append(t)\n",
    "            for t in threadList:\n",
    "                t.start()\n",
    "            for t in threadList:\n",
    "                t.join()\n",
    "        else:\n",
    "            print(\"\\n\\n______not serial nor paralle __________\\n\\n\")\n",
    "        addLog(name,\" Exit\")\n",
    "    elif task['Type'] == 'Task':\n",
    "        # no need to go down just do it\n",
    "        addLog(name,\" Entry\")\n",
    "        history_done[name] = \"notDone\" \n",
    "        doTask(name,task)\n",
    "        addLog(name,\" Exit\")\n",
    "        history_done[name] = \"done\"\n",
    "            \n",
    "            \n",
    "        "
   ]
  },
  {
   "cell_type": "code",
   "execution_count": 291,
   "metadata": {
    "scrolled": true
   },
   "outputs": [],
   "source": [
    "for k,v in yaml_data.items():\n",
    "    doTaskSerial(k,v)"
   ]
  },
  {
   "cell_type": "code",
   "execution_count": 292,
   "metadata": {},
   "outputs": [
    {
     "name": "stdout",
     "output_type": "stream",
     "text": [
      "2022-03-08 11:33:53.603037;M1B_Workflow Entry\n",
      "\n",
      "2022-03-08 11:33:53.603995;M1B_Workflow.TaskA Entry\n",
      "\n",
      "2022-03-08 11:33:53.604318;M1B_Workflow.TaskA Executing TimeFunction (TaskA_Input,1)\n",
      "\n",
      "2022-03-08 11:33:54.605988;M1B_Workflow.TaskA Exit\n",
      "\n",
      "2022-03-08 11:33:54.606230;M1B_Workflow.FlowA Entry\n",
      "\n",
      "2022-03-08 11:33:54.606864;M1B_Workflow.FlowA.TaskC Entry\n",
      "\n",
      "2022-03-08 11:33:54.606667;M1B_Workflow.FlowA.TaskB Entry\n",
      "\n",
      "2022-03-08 11:33:54.607645;M1B_Workflow.FlowA.TaskB Executing TimeFunction (TaskB_Input,14)\n",
      "\n",
      "2022-03-08 11:33:54.607458;M1B_Workflow.FlowA.TaskD Entry\n",
      "\n",
      "2022-03-08 11:33:54.607546;M1B_Workflow.FlowA.TaskC Executing TimeFunction (TaskC_Input,5)\n",
      "\n",
      "2022-03-08 11:33:54.608602;M1B_Workflow.FlowA.FlowC Entry\n",
      "\n",
      "2022-03-08 11:33:54.609033;M1B_Workflow.FlowA.TaskI Entry\n",
      "\n",
      "2022-03-08 11:33:54.608145;M1B_Workflow.FlowA.FlowB Entry\n",
      "\n",
      "2022-03-08 11:33:54.609796;M1B_Workflow.FlowA.FlowC.TaskG Entry\n",
      "\n",
      "2022-03-08 11:33:54.609646;M1B_Workflow.FlowA.TaskI Executing TimeFunction (TaskI_Input,5)\n",
      "\n",
      "2022-03-08 11:33:54.609978;M1B_Workflow.FlowA.FlowB.TaskE Entry\n",
      "\n",
      "2022-03-08 11:33:54.610382;M1B_Workflow.FlowA.FlowC.TaskG Executing TimeFunction (TaskG_Input,2)\n",
      "\n",
      "2022-03-08 11:33:54.610288;M1B_Workflow.FlowA.TaskD Executing TimeFunction (TaskD_Input,5)\n",
      "\n",
      "2022-03-08 11:33:54.610995;M1B_Workflow.FlowA.FlowB.TaskE Executing TimeFunction (TaskE_Input,5)\n",
      "\n",
      "2022-03-08 11:33:56.612563;M1B_Workflow.FlowA.FlowC.TaskG Exit\n",
      "\n",
      "2022-03-08 11:33:56.612852;M1B_Workflow.FlowA.FlowC.TaskH Entry\n",
      "\n",
      "2022-03-08 11:33:56.613195;M1B_Workflow.FlowA.FlowC.TaskH Executing TimeFunction (TaskH_Input,2)\n",
      "\n",
      "2022-03-08 11:33:58.613977;M1B_Workflow.FlowA.FlowC.TaskH Exit\n",
      "\n",
      "2022-03-08 11:33:58.614405;M1B_Workflow.FlowA.FlowC Exit\n",
      "\n",
      "2022-03-08 11:33:59.613945;M1B_Workflow.FlowA.TaskD Exit\n",
      "\n",
      "2022-03-08 11:33:59.614312;M1B_Workflow.FlowA.FlowB.TaskE Exit\n",
      "\n",
      "2022-03-08 11:33:59.614423;M1B_Workflow.FlowA.TaskI Exit\n",
      "\n",
      "2022-03-08 11:33:59.614982;M1B_Workflow.FlowA.TaskC Exit\n",
      "\n",
      "2022-03-08 11:33:59.615606;M1B_Workflow.FlowA.FlowB.TaskF Entry\n",
      "\n",
      "2022-03-08 11:33:59.616551;M1B_Workflow.FlowA.FlowB.TaskF Executing TimeFunction (TaskF_Input,1)\n",
      "\n",
      "2022-03-08 11:34:00.617976;M1B_Workflow.FlowA.FlowB.TaskF Exit\n",
      "\n",
      "2022-03-08 11:34:00.618462;M1B_Workflow.FlowA.FlowB Exit\n",
      "\n",
      "2022-03-08 11:34:08.621930;M1B_Workflow.FlowA.TaskB Exit\n",
      "\n",
      "2022-03-08 11:34:08.622257;M1B_Workflow.FlowA Exit\n",
      "\n",
      "2022-03-08 11:34:08.622440;M1B_Workflow.TaskZ Entry\n",
      "\n",
      "2022-03-08 11:34:08.622558;M1B_Workflow.TaskZ Executing TimeFunction (TaskZ_Input,5)\n",
      "\n",
      "2022-03-08 11:34:13.625924;M1B_Workflow.TaskZ Exit\n",
      "\n",
      "2022-03-08 11:34:13.626125;M1B_Workflow Exit\n",
      "\n"
     ]
    }
   ],
   "source": [
    "with open(logFileName) as file:\n",
    "    for line in file:\n",
    "        print(line)"
   ]
  },
  {
   "cell_type": "code",
   "execution_count": null,
   "metadata": {},
   "outputs": [],
   "source": []
  },
  {
   "cell_type": "code",
   "execution_count": null,
   "metadata": {},
   "outputs": [],
   "source": []
  },
  {
   "cell_type": "code",
   "execution_count": null,
   "metadata": {},
   "outputs": [],
   "source": []
  }
 ],
 "metadata": {
  "kernelspec": {
   "display_name": "Python 3",
   "language": "python",
   "name": "python3"
  },
  "language_info": {
   "codemirror_mode": {
    "name": "ipython",
    "version": 3
   },
   "file_extension": ".py",
   "mimetype": "text/x-python",
   "name": "python",
   "nbconvert_exporter": "python",
   "pygments_lexer": "ipython3",
   "version": "3.8.5"
  }
 },
 "nbformat": 4,
 "nbformat_minor": 4
}
